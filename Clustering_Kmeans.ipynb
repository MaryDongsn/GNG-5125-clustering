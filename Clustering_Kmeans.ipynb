{
  "nbformat": 4,
  "nbformat_minor": 0,
  "metadata": {
    "kernelspec": {
      "display_name": "Python 3",
      "language": "python",
      "name": "python3"
    },
    "language_info": {
      "codemirror_mode": {
        "name": "ipython",
        "version": 3
      },
      "file_extension": ".py",
      "mimetype": "text/x-python",
      "name": "python",
      "nbconvert_exporter": "python",
      "pygments_lexer": "ipython3",
      "version": "3.7.6"
    },
    "colab": {
      "name": "Clustering.ipynb",
      "provenance": [],
      "include_colab_link": true
    }
  },
  "cells": [
    {
      "cell_type": "markdown",
      "metadata": {
        "id": "view-in-github",
        "colab_type": "text"
      },
      "source": [
        "<a href=\"https://colab.research.google.com/github/MaryDongsn/GNG-5125-clustering/blob/master/Clustering_Kmeans.ipynb\" target=\"_parent\"><img src=\"https://colab.research.google.com/assets/colab-badge.svg\" alt=\"Open In Colab\"/></a>"
      ]
    },
    {
      "cell_type": "code",
      "metadata": {
        "scrolled": true,
        "id": "Wpp-NLyUnO6_",
        "colab_type": "code",
        "colab": {
          "base_uri": "https://localhost:8080/",
          "height": 190
        },
        "outputId": "34b1894c-d3de-4214-c26d-76a25a3a5b61"
      },
      "source": [
        "import nltk\n",
        "import random\n",
        "import numpy as np\n",
        "import pandas as pd\n",
        "import matplotlib.pyplot as plt\n",
        "\n",
        "from random import shuffle\n",
        "from string import punctuation\n",
        "\n",
        "from nltk.corpus import gutenberg\n",
        "from nltk.corpus import stopwords\n",
        "from nltk.stem.wordnet import WordNetLemmatizer\n",
        "\n",
        "from sklearn.feature_extraction.text import TfidfVectorizer\n",
        "from sklearn.feature_selection import chi2\n",
        "from sklearn.model_selection import train_test_split\n",
        "from sklearn.feature_extraction.text import CountVectorizer\n",
        "from sklearn.feature_extraction.text import TfidfTransformer\n",
        "from sklearn.naive_bayes import MultinomialNB\n",
        "\n",
        "\n",
        "from sklearn import svm\n",
        "from sklearn import preprocessing\n",
        "from sklearn.model_selection import cross_val_score\n",
        "from sklearn import neighbors\n",
        "from sklearn import tree\n",
        "from sklearn import neural_network\n",
        "\n",
        "nltk.download('gutenberg')\n",
        "nltk.download('punkt')\n",
        "nltk.download('stopwords')\n",
        "nltk.download('wordnet')\n",
        "# get the book list\n",
        "bookList = gutenberg.fileids()\n",
        "print(bookList)\n",
        "# books=bookList[0,3,4,5,6,7,8,11]\n",
        "books = np.array(bookList[3])\n",
        "# books = np.append(books, bookList[3])\n",
        "books = np.append(books, bookList[4])\n",
        "books = np.append(books, bookList[6])\n",
        "books = np.append(books, bookList[7])\n",
        "books = np.append(books, bookList[11])\n",
        "books = np.append(books, bookList[13])\n",
        "books = np.append(books, bookList[15])\n",
        "\n",
        "# print(books)\n",
        "# segment\n",
        "\n",
        "def sampling(number_samples, sample_size, book_name):\n",
        "    labeled_records = []\n",
        "    book = gutenberg.raw(book_name)\n",
        "    # print(book)\n",
        "    # tokenize the material of the book\n",
        "    raw_words = nltk.word_tokenize(book)\n",
        "    # print(raw_words)\n",
        "    # Prepare 200 documents for each book\n",
        "    headers = random.sample(range(0, len(raw_words)), number_samples)\n",
        "\n",
        "    for header in headers:\n",
        "        segment = raw_words[header:(header + sample_size + 1)]\n",
        "        labeled_records.append((segment, book_name))\n",
        "    return labeled_records\n",
        "\n",
        "\n",
        "def data_cleaning(sample_words):\n",
        "    # customize the punctuation list by adding extra string\n",
        "    extra_string = \"'-- ``'' \"\n",
        "    update_punctuation = punctuation + extra_string\n",
        "    # customize the stopwords list by adding extra stopwords\n",
        "    sw = stopwords.words('english')\n",
        "    extra_stopwords = \"n't\", \"'s\", \"ar't\", \"'d\", \"'ll\", \"i'll\"\n",
        "    sw.extend(extra_stopwords)\n",
        "    # Remove punctuation\n",
        "    remove_punct_words = [w for w in sample_words if w not in update_punctuation]\n",
        "    # Change all letters to lowercase\n",
        "    lowercase_words = [w.lower() for w in remove_punct_words]\n",
        "    # Strip \"_\" at the beginning or end of a word\n",
        "    strip_words = [w.strip('_') for w in lowercase_words]\n",
        "    # Remember digits/numbers (keeps only words)\n",
        "    remove_number_words = [w for w in strip_words if w.isalpha()]\n",
        "    # Remove stop words\n",
        "    final_words = [w for w in remove_number_words if w not in sw]\n",
        "    return final_words\n",
        "if __name__ == \"__main__\":\n",
        "    try_number_samples = 200\n",
        "    try_sample_size = 100\n",
        "    final_list = []\n",
        "    for book_name in books:\n",
        "        # print (book_name)\n",
        "        labeled_list = sampling(try_number_samples, try_sample_size, book_name)\n",
        "        cleaned_labeled_list = []\n",
        "\n",
        "        for samples in labeled_list:\n",
        "            book_name = samples[1]\n",
        "\n",
        "            cleaned_seg = data_cleaning(samples[0])\n",
        "            cleaned_labeled_seg = (cleaned_seg, book_name)\n",
        "            # print(cleaned_labeled_seg)\n",
        "            cleaned_labeled_list.append(cleaned_labeled_seg)\n",
        "        # print(cleaned_labeled_list)\n",
        "        final_list = final_list + cleaned_labeled_list\n",
        "    # shuffle the list\n",
        "#     shuffle(final_list)\n",
        "    #print(final_list)\n",
        "\n",
        "    docs = []\n",
        "    tags = []\n",
        "\n",
        "    # word lemmatization\n",
        "    lem = WordNetLemmatizer()\n",
        "    for labeled_doc in final_list:\n",
        "        docs.append(lem.lemmatize(' '.join(labeled_doc[0])))\n",
        "        tags.append(labeled_doc[1])\n",
        "#     print(docs)\n",
        "    # import data to dictionary\n",
        "    dic = {'Text': docs, 'File_name': tags}\n",
        "    # apply pandas data frame\n",
        "    df = pd.DataFrame(dic)\n",
        "#     print(df)\n",
        "    # df.columns = ['Text', 'File_name']\n",
        "    df['book_id'] = df['File_name'].factorize()[0]\n",
        "    book_id_df = df[['File_name', 'book_id']].drop_duplicates().sort_values('book_id')\n",
        "    book_to_id = dict(book_id_df.values)\n",
        "    id_to_book = dict(book_id_df[['book_id', 'File_name']].values)\n",
        "    \n",
        "    # feature engineering： TF-IDF\n",
        "#     tfidf = TfidfVectorizer(sublinear_tf=True, encoding='latin-1', ngram_range=(1, 2), stop_words='english')\n",
        "    tfidf = TfidfVectorizer(stop_words='english')\n",
        "    features = tfidf.fit_transform(df.Text)\n",
        "#     print(features)"
      ],
      "execution_count": null,
      "outputs": [
        {
          "output_type": "stream",
          "text": [
            "[nltk_data] Downloading package gutenberg to /root/nltk_data...\n",
            "[nltk_data]   Package gutenberg is already up-to-date!\n",
            "[nltk_data] Downloading package punkt to /root/nltk_data...\n",
            "[nltk_data]   Package punkt is already up-to-date!\n",
            "[nltk_data] Downloading package stopwords to /root/nltk_data...\n",
            "[nltk_data]   Package stopwords is already up-to-date!\n",
            "[nltk_data] Downloading package wordnet to /root/nltk_data...\n",
            "[nltk_data]   Package wordnet is already up-to-date!\n",
            "['austen-emma.txt', 'austen-persuasion.txt', 'austen-sense.txt', 'bible-kjv.txt', 'blake-poems.txt', 'bryant-stories.txt', 'burgess-busterbrown.txt', 'carroll-alice.txt', 'chesterton-ball.txt', 'chesterton-brown.txt', 'chesterton-thursday.txt', 'edgeworth-parents.txt', 'melville-moby_dick.txt', 'milton-paradise.txt', 'shakespeare-caesar.txt', 'shakespeare-hamlet.txt', 'shakespeare-macbeth.txt', 'whitman-leaves.txt']\n"
          ],
          "name": "stdout"
        }
      ]
    },
    {
      "cell_type": "code",
      "metadata": {
        "id": "oId0hc32nO7K",
        "colab_type": "code",
        "colab": {}
      },
      "source": [
        "# dimension reducing\n",
        "from sklearn.decomposition import PCA\n",
        "from sklearn.mixture import GaussianMixture\n",
        "sklearn_pca = PCA(n_components = 2)\n",
        "Y_sklearn = sklearn_pca.fit_transform(features.toarray())"
      ],
      "execution_count": null,
      "outputs": []
    },
    {
      "cell_type": "code",
      "metadata": {
        "id": "2mAmBIGQnO7N",
        "colab_type": "code",
        "colab": {
          "base_uri": "https://localhost:8080/",
          "height": 295
        },
        "outputId": "44800c5e-33cd-4529-a862-8a3b92e8a1ad"
      },
      "source": [
        "# K-Means Clustering\n",
        "from sklearn.cluster import KMeans\n",
        "# Using the elbow method to find the optimal number of clusters (7)\n",
        "wcss = []\n",
        "for i in range(1, 11):\n",
        "    kmeans = KMeans(n_clusters = i, init = 'k-means++', random_state = 42)\n",
        "    kmeans.fit(Y_sklearn)\n",
        "    wcss.append(kmeans.inertia_)\n",
        "plt.plot(range(1, 11), wcss)\n",
        "plt.title('The Elbow Method')\n",
        "plt.xlabel('Number of clusters')\n",
        "plt.ylabel('WCSS')\n",
        "plt.show()"
      ],
      "execution_count": null,
      "outputs": [
        {
          "output_type": "display_data",
          "data": {
            "image/png": "[encoded data removed]",
            "text/plain": [
              "<Figure size 432x288 with 1 Axes>"
            ]
          },
          "metadata": {
            "tags": [],
            "needs_background": "light"
          }
        }
      ]
    },
    {
      "cell_type": "code",
      "metadata": {
        "id": "RdHWul8gnO7R",
        "colab_type": "code",
        "colab": {
          "base_uri": "https://localhost:8080/",
          "height": 68
        },
        "outputId": "190130e6-4750-44ff-99ff-5aea5dcc833e"
      },
      "source": [
        "#KMeans clustering\n",
        "true_k = 7\n",
        "model = KMeans(n_clusters=true_k, init='k-means++', max_iter=100, n_init=1)\n",
        "model.fit(features)"
      ],
      "execution_count": null,
      "outputs": [
        {
          "output_type": "execute_result",
          "data": {
            "text/plain": [
              "KMeans(algorithm='auto', copy_x=True, init='k-means++', max_iter=100,\n",
              "       n_clusters=7, n_init=1, n_jobs=None, precompute_distances='auto',\n",
              "       random_state=None, tol=0.0001, verbose=0)"
            ]
          },
          "metadata": {
            "tags": []
          },
          "execution_count": 31
        }
      ]
    },
    {
      "cell_type": "code",
      "metadata": {
        "id": "Pg8OxGhonO7X",
        "colab_type": "code",
        "colab": {
          "base_uri": "https://localhost:8080/",
          "height": 34
        },
        "outputId": "d21a52fc-df53-47b3-d022-f0431563e002"
      },
      "source": [
        "model.labels_\n",
        "# array([4, 0, 0, ..., 2, 4, 3])"
      ],
      "execution_count": null,
      "outputs": [
        {
          "output_type": "execute_result",
          "data": {
            "text/plain": [
              "array([6, 4, 4, ..., 5, 5, 5], dtype=int32)"
            ]
          },
          "metadata": {
            "tags": []
          },
          "execution_count": 32
        }
      ]
    },
    {
      "cell_type": "code",
      "metadata": {
        "id": "xTljaADpnO7c",
        "colab_type": "code",
        "colab": {
          "base_uri": "https://localhost:8080/",
          "height": 34
        },
        "outputId": "5683688a-1c86-404c-cc59-5aad41f68700"
      },
      "source": [
        "kmeans_predict = model.predict(features)\n",
        "print (kmeans_predict)"
      ],
      "execution_count": null,
      "outputs": [
        {
          "output_type": "stream",
          "text": [
            "[6 4 4 ... 5 5 5]\n"
          ],
          "name": "stdout"
        }
      ]
    },
    {
      "cell_type": "code",
      "metadata": {
        "id": "wrCIgsRLnO7g",
        "colab_type": "code",
        "colab": {
          "base_uri": "https://localhost:8080/",
          "height": 282
        },
        "outputId": "604d87d8-5f57-4b6d-b496-b68851f6067e"
      },
      "source": [
        "# visualization of KMeans\n",
        "reduced_cluster_centers = sklearn_pca.transform(model.cluster_centers_)\n",
        "plt.scatter(Y_sklearn[:,0], Y_sklearn[:,1], c=model.predict(features))\n",
        "plt.scatter(reduced_cluster_centers[:, 0], reduced_cluster_centers[:,1], marker='x', s=150, c='b')"
      ],
      "execution_count": null,
      "outputs": [
        {
          "output_type": "execute_result",
          "data": {
            "text/plain": [
              "<matplotlib.collections.PathCollection at 0x7f0a3ffaf390>"
            ]
          },
          "metadata": {
            "tags": []
          },
          "execution_count": 34
        },
        {
          "output_type": "display_data",
          "data": {
            "image/png": "[encoded data removed]",
            "text/plain": [
              "<Figure size 432x288 with 1 Axes>"
            ]
          },
          "metadata": {
            "tags": [],
            "needs_background": "light"
          }
        }
      ]
    },
    {
      "cell_type": "code",
      "metadata": {
        "id": "Q-FOlMFknO7k",
        "colab_type": "code",
        "colab": {}
      },
      "source": [
        "# count the ratio of cluster id in each cluster\n",
        "# return stat - display the predicted clusters' id distribution\n",
        "# return new_id - the clusters' id array following the original doc order\n",
        "def statistics(predict):\n",
        "    stat = []\n",
        "    new_id = []\n",
        "    for i in range(0, 1400, 200):\n",
        "        ratio = []\n",
        "        most_possible_id = 0\n",
        "        max_count = 0\n",
        "        for j in range(7):\n",
        "            # count = predict[i:i + 200].count(j)\n",
        "            counter = collections.Counter(predict[i:i + 200])\n",
        "            count = counter[j]\n",
        "            ratio.append(count / 200)\n",
        "            if count > max_count:\n",
        "                max_count = count\n",
        "                most_possible_id = j\n",
        "        stat.append(ratio)\n",
        "        new_id.append(most_possible_id)\n",
        "    return stat, new_id"
      ],
      "execution_count": null,
      "outputs": []
    },
    {
      "cell_type": "code",
      "metadata": {
        "id": "hIhZXlEOnO7o",
        "colab_type": "code",
        "colab": {}
      },
      "source": [
        "# obtain cluster id from predict result\n",
        "import collections\n",
        "stat, new_id = statistics(kmeans_predict)"
      ],
      "execution_count": null,
      "outputs": []
    },
    {
      "cell_type": "code",
      "metadata": {
        "id": "lIfp34TAnO7r",
        "colab_type": "code",
        "colab": {
          "base_uri": "https://localhost:8080/",
          "height": 170
        },
        "outputId": "3b8fb3ab-459d-4bd1-d74b-ad270fcc661b"
      },
      "source": [
        "predict_df = pd.DataFrame(stat, index = books, columns=['0', '1', '2', '3', '4', '5', '6'])\n",
        "print(predict_df)\n",
        "new_id"
      ],
      "execution_count": null,
      "outputs": [
        {
          "output_type": "stream",
          "text": [
            "                             0      1      2      3      4      5      6\n",
            "bible-kjv.txt            0.000  0.000  0.095  0.000  0.175  0.000  0.730\n",
            "blake-poems.txt          0.000  0.000  0.030  0.715  0.090  0.000  0.165\n",
            "burgess-busterbrown.txt  0.925  0.000  0.075  0.000  0.000  0.000  0.000\n",
            "carroll-alice.txt        0.000  0.830  0.170  0.000  0.000  0.000  0.000\n",
            "edgeworth-parents.txt    0.000  0.015  0.950  0.005  0.030  0.000  0.000\n",
            "milton-paradise.txt      0.000  0.000  0.045  0.000  0.780  0.000  0.175\n",
            "shakespeare-hamlet.txt   0.000  0.000  0.070  0.000  0.055  0.825  0.050\n"
          ],
          "name": "stdout"
        },
        {
          "output_type": "execute_result",
          "data": {
            "text/plain": [
              "[6, 3, 0, 1, 2, 4, 5]"
            ]
          },
          "metadata": {
            "tags": []
          },
          "execution_count": 38
        }
      ]
    },
    {
      "cell_type": "code",
      "metadata": {
        "id": "Gkmxq9IOnO7u",
        "colab_type": "code",
        "colab": {
          "base_uri": "https://localhost:8080/",
          "height": 221
        },
        "outputId": "ecda87b7-0b57-4975-92e4-17ce8bc3f585"
      },
      "source": [
        "# create new book id\n",
        "ids = []\n",
        "for k in new_id:\n",
        "    arr = np.ones(200)\n",
        "    ids.append(arr * k)\n",
        "book_cluster_ids = np.array(ids,dtype='int8').flatten()\n",
        "# assign new book id to the df\n",
        "df['cluster_id'] = book_cluster_ids\n",
        "df.cluster_id\n"
      ],
      "execution_count": null,
      "outputs": [
        {
          "output_type": "execute_result",
          "data": {
            "text/plain": [
              "0       6\n",
              "1       6\n",
              "2       6\n",
              "3       6\n",
              "4       6\n",
              "       ..\n",
              "1395    5\n",
              "1396    5\n",
              "1397    5\n",
              "1398    5\n",
              "1399    5\n",
              "Name: cluster_id, Length: 1400, dtype: int8"
            ]
          },
          "metadata": {
            "tags": []
          },
          "execution_count": 39
        }
      ]
    },
    {
      "cell_type": "code",
      "metadata": {
        "id": "yAXQKfqjnO7y",
        "colab_type": "code",
        "colab": {
          "base_uri": "https://localhost:8080/",
          "height": 34
        },
        "outputId": "76c48fab-32ed-4382-8fea-91d5193f53aa"
      },
      "source": [
        "#evaluation of KMeans\n",
        "from sklearn.metrics import cohen_kappa_score\n",
        "print(cohen_kappa_score(df.cluster_id, kmeans_predict))"
      ],
      "execution_count": null,
      "outputs": [
        {
          "output_type": "stream",
          "text": [
            "0.7925\n"
          ],
          "name": "stdout"
        }
      ]
    },
    {
      "cell_type": "code",
      "metadata": {
        "id": "-SzodfStnO70",
        "colab_type": "code",
        "colab": {
          "base_uri": "https://localhost:8080/",
          "height": 51
        },
        "outputId": "8a58a241-6473-4e52-d7af-118fcfcdf059"
      },
      "source": [
        "from sklearn.metrics import homogeneity_score\n",
        "from sklearn.metrics import silhouette_score\n",
        "print(homogeneity_score(df.book_id, kmeans_predict))\n",
        "silhouette_score(features, labels=kmeans_predict)"
      ],
      "execution_count": null,
      "outputs": [
        {
          "output_type": "stream",
          "text": [
            "0.7027234064839367\n"
          ],
          "name": "stdout"
        },
        {
          "output_type": "execute_result",
          "data": {
            "text/plain": [
              "0.014811519299739511"
            ]
          },
          "metadata": {
            "tags": []
          },
          "execution_count": 41
        }
      ]
    },
    {
      "cell_type": "code",
      "metadata": {
        "id": "j2-7GTCAnO74",
        "colab_type": "code",
        "colab": {
          "base_uri": "https://localhost:8080/",
          "height": 284
        },
        "outputId": "3d4d4f0d-5697-49db-877d-0fad002f9879"
      },
      "source": [
        "# Using the dendrogram to find the optimal number of clusters (7)\n",
        "import scipy.cluster.hierarchy as sch\n",
        "dendrogram = sch.dendrogram(sch.linkage(features.toarray(), method = 'ward'))\n",
        "plt.title('Dendrogram')\n",
        "plt.show()"
      ],
      "execution_count": null,
      "outputs": [
        {
          "output_type": "display_data",
          "data": {
            "image/png": "[encoded data removed]",
            "text/plain": [
              "<Figure size 432x288 with 1 Axes>"
            ]
          },
          "metadata": {
            "tags": [],
            "needs_background": "light"
          }
        }
      ]
    },
    {
      "cell_type": "code",
      "metadata": {
        "id": "kau9SJqXnO76",
        "colab_type": "code",
        "colab": {
          "base_uri": "https://localhost:8080/",
          "height": 34
        },
        "outputId": "4b7ab40d-8fcd-416a-ee3d-ed9ec976f65e"
      },
      "source": [
        "#EM clustering\n",
        "gmm = GaussianMixture(n_components=7).fit(Y_sklearn)\n",
        "labels = gmm.predict(Y_sklearn)\n",
        "labels"
      ],
      "execution_count": null,
      "outputs": [
        {
          "output_type": "execute_result",
          "data": {
            "text/plain": [
              "array([5, 5, 5, ..., 5, 5, 0])"
            ]
          },
          "metadata": {
            "tags": []
          },
          "execution_count": 58
        }
      ]
    },
    {
      "cell_type": "code",
      "metadata": {
        "id": "_hO3yFYsnO7-",
        "colab_type": "code",
        "colab": {
          "base_uri": "https://localhost:8080/",
          "height": 320
        },
        "outputId": "d7f208bc-6571-4023-86d5-5494d891527b"
      },
      "source": [
        "from scipy.stats import multivariate_normal as mvn\n",
        "centers = np.zeros((7,2))\n",
        "for i in range(7):\n",
        "    density = mvn(cov=gmm.covariances_[i], mean=gmm.means_[i]).logpdf(Y_sklearn)\n",
        "    centers[i, :] = Y_sklearn[np.argmax(density)]\n",
        "plt.figure(figsize = (10,5))\n",
        "plt.scatter(Y_sklearn[:, 0], Y_sklearn[:, 1],c=labels ,s=50, cmap='viridis')\n",
        "plt.scatter(centers[:, 0], centers[:, 1],c='black', s=300, alpha=0.6);\n",
        "plt.show()"
      ],
      "execution_count": null,
      "outputs": [
        {
          "output_type": "display_data",
          "data": {
            "image/png": "[encoded data removed]",
            "text/plain": [
              "<Figure size 720x360 with 1 Axes>"
            ]
          },
          "metadata": {
            "tags": [],
            "needs_background": "light"
          }
        }
      ]
    },
    {
      "cell_type": "code",
      "metadata": {
        "id": "I74FnrgqnO8B",
        "colab_type": "code",
        "colab": {
          "base_uri": "https://localhost:8080/",
          "height": 374
        },
        "outputId": "04c107b5-19f6-4b07-fb05-de6e5e9fc1e6"
      },
      "source": [
        "# obtain cluster id from predict result\n",
        "em_predict = gmm.predict(Y_sklearn)\n",
        "stat, new_id = statistics(em_predict)\n",
        "predict_df = pd.DataFrame(stat, index = books, columns=['0', '1', '2', '3', '4', '5', '6'])\n",
        "print(predict_df)\n",
        "print(new_id)\n",
        "# create new book id\n",
        "ids = []\n",
        "for k in new_id:\n",
        "    arr = np.ones(200)\n",
        "    ids.append(arr * k)\n",
        "book_cluster_ids = np.array(ids,dtype='int8').flatten()\n",
        "# assign new book id to the df\n",
        "df['cluster_id'] = book_cluster_ids\n",
        "df.cluster_id"
      ],
      "execution_count": null,
      "outputs": [
        {
          "output_type": "stream",
          "text": [
            "                             0    1      2      3      4      5      6\n",
            "bible-kjv.txt            0.520  0.0  0.010  0.000  0.005  0.465  0.000\n",
            "blake-poems.txt          0.450  0.0  0.045  0.095  0.060  0.350  0.000\n",
            "burgess-busterbrown.txt  0.000  0.5  0.000  0.005  0.285  0.005  0.205\n",
            "carroll-alice.txt        0.065  0.0  0.015  0.880  0.005  0.035  0.000\n",
            "edgeworth-parents.txt    0.010  0.0  0.195  0.255  0.015  0.525  0.000\n",
            "milton-paradise.txt      0.250  0.0  0.020  0.000  0.000  0.730  0.000\n",
            "shakespeare-hamlet.txt   0.245  0.0  0.005  0.000  0.000  0.750  0.000\n",
            "[0, 0, 1, 3, 5, 5, 5]\n"
          ],
          "name": "stdout"
        },
        {
          "output_type": "execute_result",
          "data": {
            "text/plain": [
              "0       0\n",
              "1       0\n",
              "2       0\n",
              "3       0\n",
              "4       0\n",
              "       ..\n",
              "1395    5\n",
              "1396    5\n",
              "1397    5\n",
              "1398    5\n",
              "1399    5\n",
              "Name: cluster_id, Length: 1400, dtype: int8"
            ]
          },
          "metadata": {
            "tags": []
          },
          "execution_count": 60
        }
      ]
    },
    {
      "cell_type": "code",
      "metadata": {
        "id": "twytllZWnO8D",
        "colab_type": "code",
        "colab": {
          "base_uri": "https://localhost:8080/",
          "height": 34
        },
        "outputId": "985ba475-0eb4-4c67-8df4-5cde34c7ac9a"
      },
      "source": [
        "#evaluation of EM\n",
        "from sklearn.metrics import cohen_kappa_score\n",
        "print(cohen_kappa_score(df.cluster_id, em_predict))"
      ],
      "execution_count": null,
      "outputs": [
        {
          "output_type": "stream",
          "text": [
            "0.4799887656228058\n"
          ],
          "name": "stdout"
        }
      ]
    },
    {
      "cell_type": "code",
      "metadata": {
        "id": "VGVqqCkKnO8J",
        "colab_type": "code",
        "colab": {
          "base_uri": "https://localhost:8080/",
          "height": 51
        },
        "outputId": "a9e73d0f-f38e-4be3-d37f-99af78deca82"
      },
      "source": [
        "from sklearn.metrics import homogeneity_score\n",
        "from sklearn.metrics import silhouette_score\n",
        "print(homogeneity_score(df.cluster_id, gmm.predict(Y_sklearn)))\n",
        "silhouette_score(features, labels=gmm.predict(Y_sklearn))"
      ],
      "execution_count": null,
      "outputs": [
        {
          "output_type": "stream",
          "text": [
            "0.4894740815372104\n"
          ],
          "name": "stdout"
        },
        {
          "output_type": "execute_result",
          "data": {
            "text/plain": [
              "0.00327477687139559"
            ]
          },
          "metadata": {
            "tags": []
          },
          "execution_count": 62
        }
      ]
    },
    {
      "cell_type": "code",
      "metadata": {
        "id": "NC0GXpwsnO8L",
        "colab_type": "code",
        "colab": {
          "base_uri": "https://localhost:8080/",
          "height": 68
        },
        "outputId": "0896072f-308a-44a6-8c39-31a6607e12c4"
      },
      "source": [
        "# Hierarchy clustering\n",
        "# Training the Hierarchical Clustering model on the dataset\n",
        "from sklearn.cluster import AgglomerativeClustering\n",
        "hc = AgglomerativeClustering(n_clusters = 7, affinity = 'euclidean', linkage = 'ward')\n",
        "y_hc = hc.fit_predict(features.toarray())\n",
        "\n",
        "print(len(y_hc))\n",
        "print(y_hc)\n",
        "hc.n_clusters_"
      ],
      "execution_count": null,
      "outputs": [
        {
          "output_type": "stream",
          "text": [
            "1400\n",
            "[0 1 1 ... 6 6 0]\n"
          ],
          "name": "stdout"
        },
        {
          "output_type": "execute_result",
          "data": {
            "text/plain": [
              "7"
            ]
          },
          "metadata": {
            "tags": []
          },
          "execution_count": 69
        }
      ]
    },
    {
      "cell_type": "code",
      "metadata": {
        "id": "vUDSHp-vnO8O",
        "colab_type": "code",
        "colab": {
          "base_uri": "https://localhost:8080/",
          "height": 265
        },
        "outputId": "63c54387-23eb-4da8-97bd-e05d84f12fc7"
      },
      "source": [
        "# Visualising the clusters\n",
        "plt.scatter(Y_sklearn[y_hc == 0, 0], Y_sklearn[y_hc == 0, 1], s = 50, c = 'red', label = 'Cluster 1')\n",
        "plt.scatter(Y_sklearn[y_hc == 1, 0], Y_sklearn[y_hc == 1, 1], s = 50, c = 'blue', label = 'Cluster 2')\n",
        "plt.scatter(Y_sklearn[y_hc == 2, 0], Y_sklearn[y_hc == 2, 1], s = 50, c = 'green', label = 'Cluster 3')\n",
        "plt.scatter(Y_sklearn[y_hc == 3, 0], Y_sklearn[y_hc == 3, 1], s = 50, c = 'cyan', label = 'Cluster 4')\n",
        "plt.scatter(Y_sklearn[y_hc == 4, 0], Y_sklearn[y_hc == 4, 1], s = 50, c = 'magenta', label = 'Cluster 5')\n",
        "plt.scatter(Y_sklearn[y_hc == 5, 0], Y_sklearn[y_hc == 5, 1], s = 50, c = 'crimson', label = 'Cluster 6')\n",
        "plt.scatter(Y_sklearn[y_hc == 6, 0], Y_sklearn[y_hc == 6, 1], s = 50, c = 'burlywood', label = 'Cluster 7')\n",
        "plt.show()"
      ],
      "execution_count": null,
      "outputs": [
        {
          "output_type": "display_data",
          "data": {
            "image/png": "[encoded data removed]",
            "text/plain": [
              "<Figure size 432x288 with 1 Axes>"
            ]
          },
          "metadata": {
            "tags": [],
            "needs_background": "light"
          }
        }
      ]
    },
    {
      "cell_type": "code",
      "metadata": {
        "id": "DIqttDcKnO8S",
        "colab_type": "code",
        "colab": {
          "base_uri": "https://localhost:8080/",
          "height": 374
        },
        "outputId": "dade6f53-57bc-4480-e6ee-8d10f2465a36"
      },
      "source": [
        "# obtain cluster id from predict result\n",
        "hc_predict = y_hc\n",
        "stat, new_id = statistics(hc_predict)\n",
        "predict_df = pd.DataFrame(stat, index = books, columns=['0', '1', '2', '3', '4', '5', '6'])\n",
        "print(predict_df)\n",
        "print(new_id)\n",
        "# create new book id\n",
        "ids = []\n",
        "for k in new_id:\n",
        "    arr = np.ones(200)\n",
        "    ids.append(arr * k)\n",
        "book_cluster_ids = np.array(ids,dtype='int8').flatten()\n",
        "# assign new book id to the df\n",
        "df['cluster_id'] = book_cluster_ids\n",
        "df.cluster_id"
      ],
      "execution_count": null,
      "outputs": [
        {
          "output_type": "stream",
          "text": [
            "                             0      1      2     3     4      5      6\n",
            "bible-kjv.txt            0.870  0.130  0.000  0.00  0.00  0.000  0.000\n",
            "blake-poems.txt          0.185  0.755  0.000  0.00  0.06  0.000  0.000\n",
            "burgess-busterbrown.txt  0.000  0.075  0.000  0.57  0.00  0.355  0.000\n",
            "carroll-alice.txt        0.005  0.185  0.795  0.00  0.00  0.000  0.015\n",
            "edgeworth-parents.txt    0.020  0.970  0.005  0.00  0.00  0.000  0.005\n",
            "milton-paradise.txt      0.255  0.735  0.000  0.00  0.00  0.000  0.010\n",
            "shakespeare-hamlet.txt   0.065  0.105  0.000  0.00  0.00  0.000  0.830\n",
            "[0, 1, 3, 2, 1, 1, 6]\n"
          ],
          "name": "stdout"
        },
        {
          "output_type": "execute_result",
          "data": {
            "text/plain": [
              "0       0\n",
              "1       0\n",
              "2       0\n",
              "3       0\n",
              "4       0\n",
              "       ..\n",
              "1395    6\n",
              "1396    6\n",
              "1397    6\n",
              "1398    6\n",
              "1399    6\n",
              "Name: cluster_id, Length: 1400, dtype: int8"
            ]
          },
          "metadata": {
            "tags": []
          },
          "execution_count": 71
        }
      ]
    },
    {
      "cell_type": "code",
      "metadata": {
        "id": "ec_8xSyOnO8U",
        "colab_type": "code",
        "colab": {
          "base_uri": "https://localhost:8080/",
          "height": 51
        },
        "outputId": "d4dd21c9-2d51-4711-8659-19b6d608b10b"
      },
      "source": [
        "print(homogeneity_score(df.File_name, hc.labels_))\n",
        "silhouette_score(features, labels=hc.labels_)"
      ],
      "execution_count": null,
      "outputs": [
        {
          "output_type": "stream",
          "text": [
            "0.529844094744161\n"
          ],
          "name": "stdout"
        },
        {
          "output_type": "execute_result",
          "data": {
            "text/plain": [
              "0.009603429966865924"
            ]
          },
          "metadata": {
            "tags": []
          },
          "execution_count": 72
        }
      ]
    },
    {
      "cell_type": "code",
      "metadata": {
        "id": "-4_Fie4lnO8X",
        "colab_type": "code",
        "colab": {}
      },
      "source": [
        ""
      ],
      "execution_count": null,
      "outputs": []
    }
  ]
}