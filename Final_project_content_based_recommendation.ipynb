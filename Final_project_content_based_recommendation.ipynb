{
  "nbformat": 4,
  "nbformat_minor": 0,
  "metadata": {
    "colab": {
      "name": "Final project content based recommendation.ipynb",
      "provenance": [],
      "collapsed_sections": [],
      "authorship_tag": "ABX9TyNVhEJxk057AxBuLdGZJ3Qk",
      "include_colab_link": true
    },
    "kernelspec": {
      "name": "python3",
      "display_name": "Python 3"
    }
  },
  "cells": [
    {
      "cell_type": "markdown",
      "metadata": {
        "id": "view-in-github",
        "colab_type": "text"
      },
      "source": [
        "<a href=\"https://colab.research.google.com/github/MaryDongsn/GNG-5125-clustering/blob/master/Final_project_content_based_recommendation.ipynb\" target=\"_parent\"><img src=\"https://colab.research.google.com/assets/colab-badge.svg\" alt=\"Open In Colab\"/></a>"
      ]
    },
    {
      "cell_type": "code",
      "metadata": {
        "id": "P6BzS2I0qrqb",
        "colab_type": "code",
        "colab": {
          "base_uri": "https://localhost:8080/",
          "height": 71
        },
        "outputId": "e1d46e19-4595-4a57-9c75-9cf1d784ecdd"
      },
      "source": [
        "\n",
        "from math import sqrt\n",
        "import pandas as pd\n",
        "import numpy as np\n",
        "import seaborn as sns\n",
        "from matplotlib import pyplot as plt\n",
        "from sklearn.feature_extraction.text import TfidfVectorizer\n",
        "from sklearn.metrics.pairwise import linear_kernel"
      ],
      "execution_count": 1,
      "outputs": [
        {
          "output_type": "stream",
          "text": [
            "/usr/local/lib/python3.6/dist-packages/statsmodels/tools/_testing.py:19: FutureWarning: pandas.util.testing is deprecated. Use the functions in the public API at pandas.testing instead.\n",
            "  import pandas.util.testing as tm\n"
          ],
          "name": "stderr"
        }
      ]
    },
    {
      "cell_type": "code",
      "metadata": {
        "id": "nCR86aO4yojZ",
        "colab_type": "code",
        "colab": {
          "base_uri": "https://localhost:8080/",
          "height": 122
        },
        "outputId": "0041bb66-d780-4d2a-ce3d-e824c6f2b46f"
      },
      "source": [
        "###### Use the following code if you use google colab #####\n",
        "# from google.colab import drive \n",
        "# drive.mount('/content/gdrive')\n",
        "# ratings=pd.read_csv('/content/gdrive/My Drive/gng5125 project/ratings.csv',sep=',', encoding='latin-1', usecols=['userId','movieId','rating','timestamp'])\n",
        "# movies = pd.read_csv('/content/gdrive/My Drive/gng5125 project/movies.csv', sep=',', encoding='latin-1', usecols=['movieId','title','genres'])"
      ],
      "execution_count": 7,
      "outputs": [
        {
          "output_type": "stream",
          "text": [
            "Go to this URL in a browser: https://accounts.google.com/o/oauth2/auth?client_id=947318989803-6bn6qk8qdgf4n4g3pfee6491hc0brc4i.apps.googleusercontent.com&redirect_uri=urn%3aietf%3awg%3aoauth%3a2.0%3aoob&response_type=code&scope=email%20https%3a%2f%2fwww.googleapis.com%2fauth%2fdocs.test%20https%3a%2f%2fwww.googleapis.com%2fauth%2fdrive%20https%3a%2f%2fwww.googleapis.com%2fauth%2fdrive.photos.readonly%20https%3a%2f%2fwww.googleapis.com%2fauth%2fpeopleapi.readonly\n",
            "\n",
            "Enter your authorization code:\n",
            "··········\n",
            "Mounted at /content/gdrive\n"
          ],
          "name": "stdout"
        }
      ]
    },
    {
      "cell_type": "code",
      "metadata": {
        "id": "Ewjm4KsAeG6U",
        "colab_type": "code",
        "colab": {}
      },
      "source": [
        "\n",
        "# Reading ratings file\n",
        "ratings = pd.read_csv('ratings.csv', sep=',', encoding='latin-1', usecols=['userId','movieId','rating','timestamp'])\n",
        "\n",
        "# Reading movies file\n",
        "movies = pd.read_csv('movies.csv', sep=',', encoding='latin-1', usecols=['movieId','title','genres'])\n",
        "\n",
        "df_movies = movies \n",
        "df_ratings = ratings"
      ],
      "execution_count": 11,
      "outputs": []
    },
    {
      "cell_type": "code",
      "metadata": {
        "id": "J_RpNMmFrtBN",
        "colab_type": "code",
        "colab": {}
      },
      "source": [
        "# Define a TF-IDF Vectorizer Object.\n",
        "tfidf_movies_genres = TfidfVectorizer(token_pattern = '[a-zA-Z0-9\\-]+')\n",
        "\n",
        "#Replace NaN with an empty string\n",
        "df_movies['genres'] = df_movies['genres'].replace(to_replace=\"(no genres listed)\", value=\"\")\n",
        "\n",
        "#Construct the required TF-IDF matrix by fitting and transforming the data\n",
        "tfidf_movies_genres_matrix = tfidf_movies_genres.fit_transform(df_movies['genres'])\n",
        "\n",
        "# Compute the cosine similarity matrix\n",
        "\n",
        "cosine_sim_movies = linear_kernel(tfidf_movies_genres_matrix, tfidf_movies_genres_matrix)\n",
        "# print(cosine_sim_movies)"
      ],
      "execution_count": 12,
      "outputs": []
    },
    {
      "cell_type": "code",
      "metadata": {
        "id": "QlWtkdiIu9uw",
        "colab_type": "code",
        "colab": {}
      },
      "source": [
        "def get_recommendations_based_on_genres(movie_title, cosine_sim_movies=cosine_sim_movies):\n",
        "    \"\"\"\n",
        "    Calculates top 2 movies to recommend based on given movie titles genres. \n",
        "    :param movie_title: title of movie to be taken for base of recommendation\n",
        "    :param cosine_sim_movies: cosine similarity between movies \n",
        "    :return: Titles of movies recommended to user\n",
        "    \"\"\"\n",
        "    # Get the index of the movie that matches the title\n",
        "    idx_movie = df_movies.loc[df_movies['title'].isin([movie_title])]\n",
        "    idx_movie = idx_movie.index\n",
        "    \n",
        "    # Get the pairwsie similarity scores of all movies with that movie\n",
        "    sim_scores_movies = list(enumerate(cosine_sim_movies[idx_movie][0]))\n",
        "    \n",
        "    # Sort the movies based on the similarity scores\n",
        "    sim_scores_movies = sorted(sim_scores_movies, key=lambda x: x[1], reverse=True)\n",
        "\n",
        "    # Get the scores of the 10 most similar movies \n",
        "    sim_scores_movies = sim_scores_movies[0:10]\n",
        "\n",
        "    \n",
        "    # Get the movie indices\n",
        "    movie_indices = [i[0] for i in sim_scores_movies if not i[0] == idx_movie ]\n",
        "   \n",
        "    \n",
        "    # Return the top 1 most similar movies\n",
        "    return df_movies['title'].iloc[movie_indices[0]]"
      ],
      "execution_count": 118,
      "outputs": []
    },
    {
      "cell_type": "code",
      "metadata": {
        "id": "zrrZrYegvClj",
        "colab_type": "code",
        "colab": {
          "base_uri": "https://localhost:8080/",
          "height": 51
        },
        "outputId": "df03dfa8-5722-4a4c-ef44-d386d31a00ad"
      },
      "source": [
        "my_movie = input(\"Enter the name and the year of the movie, forexample, Toy Story (1995):\")\n",
        "\n",
        "\n",
        "recommend_to_watch = get_recommendations_based_on_genres(my_movie)\n",
        "print (\"Based on \" + my_movie + \", \" + \"we recommend you to watch \" + recommend_to_watch + \".\")"
      ],
      "execution_count": 128,
      "outputs": [
        {
          "output_type": "stream",
          "text": [
            "Enter the name and the year of the movie, forexample, Toy Story (1995):Antz (1998)\n",
            "Based on Antz (1998), we recommend you to watch Toy Story (1995).\n"
          ],
          "name": "stdout"
        }
      ]
    }
  ]
}